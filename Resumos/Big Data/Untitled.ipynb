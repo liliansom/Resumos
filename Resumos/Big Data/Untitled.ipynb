{
 "cells": [
  {
   "cell_type": "markdown",
   "id": "51ef2f98",
   "metadata": {},
   "source": [
    "# Big Data\n",
    "\n",
    "Definição: é uma coleção de conjunto de dados, grandes e complexos, que não podem ser processados por bancos de dados ou aplicações de processamento tradicionais."
   ]
  },
  {
   "cell_type": "markdown",
   "id": "1041bb7f",
   "metadata": {},
   "source": [
    "### Os 4 V's do Big Data (IBM)\n",
    "* Volume: Tamanho dos Dados\n",
    "* Variedade: Formato dos Dados\n",
    "* Velocidade: Geração dos Dados\n",
    "* Veracidade: Confiabilidade dos Dados"
   ]
  },
  {
   "cell_type": "markdown",
   "id": "e0e0ac6e",
   "metadata": {},
   "source": [
    "# Big Data x Ciência de Dados\n",
    "Big Data é a matéria-prima, ou seja, dados.\n",
    "\n",
    "Ciência de Dados é um conjunto de técnicas para análise de dados."
   ]
  },
  {
   "cell_type": "markdown",
   "id": "3cc7efba",
   "metadata": {},
   "source": [
    "# Armazenamento\n",
    "Os dados são estruturados ou podem ser estruturados antes do armazenamento?\n",
    "    \n",
    "    Data Warehouse\n",
    "\n",
    "Os dados NÃO são estruturados ou NÃO podem ser estruturados antes do armazenamento?\n",
    "    \n",
    "    Data Lake ou \n",
    "    Data Store"
   ]
  },
  {
   "cell_type": "markdown",
   "id": "07009d42",
   "metadata": {},
   "source": [
    "O que me impede de estruturar um dado?\n",
    "A depender do volume não há como estruturar em tempo hábil.\n"
   ]
  },
  {
   "cell_type": "markdown",
   "id": "e54f65a1",
   "metadata": {},
   "source": [
    "## Banco de Dados\n",
    "* Relacionais: São banco de dados estruturados e com schema (organização dos dados) bem definidos. O schema é definido e criado antes do armazenamento dos dados.\n",
    "    \n",
    "        Um  Data Warehouse é criado com alguma tecnologia de banco relacional como SGBD (Sistema Gerenciador de Banco de Dados) Oracle, IBM DB2, Microsoft SQL Server, MySQL, PostgreSQL e muitos outros\n",
    "        Em um banco de dados relacional os dados são organizados em tabelas que se relacionam.\n",
    "    \n",
    "* Não Relacionais: partem do princípio que os dados podem ser semi ou não estruturados e que outros tipos de relacionamentos podem exister entre os dados. Não precisamos definir schema antes do armazenamento ou o schema é definido no momento do armazenamento dos dados.\n",
    "\n",
    "        Podemos utilizar um BD Não Relacional para construir Data Lakes e Data Stores.\n",
    "        Existem diversos tipos de BD NoSQL."
   ]
  },
  {
   "cell_type": "markdown",
   "id": "c38c8f4c",
   "metadata": {},
   "source": [
    "# Data Warehouse x Data Lake x Data Store"
   ]
  },
  {
   "cell_type": "markdown",
   "id": "e8ee28a8",
   "metadata": {},
   "source": []
  },
  {
   "cell_type": "markdown",
   "id": "c9a985ba",
   "metadata": {},
   "source": []
  },
  {
   "cell_type": "markdown",
   "id": "dfb07edc",
   "metadata": {},
   "source": []
  },
  {
   "cell_type": "markdown",
   "id": "acae51c4",
   "metadata": {},
   "source": []
  },
  {
   "cell_type": "markdown",
   "id": "e0daa81f",
   "metadata": {},
   "source": []
  },
  {
   "cell_type": "markdown",
   "id": "851f4f2d",
   "metadata": {},
   "source": []
  },
  {
   "cell_type": "markdown",
   "id": "b9187a2d",
   "metadata": {},
   "source": []
  },
  {
   "cell_type": "markdown",
   "id": "4716f5e4",
   "metadata": {},
   "source": []
  },
  {
   "cell_type": "markdown",
   "id": "7dacbaf8",
   "metadata": {},
   "source": []
  },
  {
   "cell_type": "markdown",
   "id": "0e4e724f",
   "metadata": {},
   "source": []
  },
  {
   "cell_type": "markdown",
   "id": "34e2c47b",
   "metadata": {},
   "source": []
  },
  {
   "cell_type": "markdown",
   "id": "d2e7fcf7",
   "metadata": {},
   "source": []
  },
  {
   "cell_type": "markdown",
   "id": "645571a7",
   "metadata": {},
   "source": []
  },
  {
   "cell_type": "markdown",
   "id": "562897f2",
   "metadata": {},
   "source": []
  }
 ],
 "metadata": {
  "kernelspec": {
   "display_name": "Python 3 (ipykernel)",
   "language": "python",
   "name": "python3"
  },
  "language_info": {
   "codemirror_mode": {
    "name": "ipython",
    "version": 3
   },
   "file_extension": ".py",
   "mimetype": "text/x-python",
   "name": "python",
   "nbconvert_exporter": "python",
   "pygments_lexer": "ipython3",
   "version": "3.9.16"
  }
 },
 "nbformat": 4,
 "nbformat_minor": 5
}
