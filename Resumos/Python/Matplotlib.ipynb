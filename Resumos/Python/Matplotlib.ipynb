{
 "cells": [
  {
   "cell_type": "code",
   "execution_count": 2,
   "id": "e26bfd90",
   "metadata": {},
   "outputs": [],
   "source": [
    "import matplotlib as plt\n",
    "%matplotlib inline"
   ]
  },
  {
   "cell_type": "markdown",
   "id": "4622c3f7",
   "metadata": {},
   "source": [
    "#### Para plotar gráficos\n",
    "\n",
    "fig, ax = plt.subplots(figsize=(20,6)) \n",
    "ax.set_title('Nome coluna', fontsize=valorqq)\n",
    "ax = dados['dados'].plot()"
   ]
  },
  {
   "cell_type": "markdown",
   "id": "1409f249",
   "metadata": {},
   "source": []
  },
  {
   "cell_type": "markdown",
   "id": "43943d32",
   "metadata": {},
   "source": []
  },
  {
   "cell_type": "markdown",
   "id": "91c8514b",
   "metadata": {},
   "source": []
  },
  {
   "cell_type": "markdown",
   "id": "173c18cd",
   "metadata": {},
   "source": []
  },
  {
   "cell_type": "markdown",
   "id": "9466acb2",
   "metadata": {},
   "source": []
  },
  {
   "cell_type": "markdown",
   "id": "5d8af7f7",
   "metadata": {},
   "source": []
  },
  {
   "cell_type": "markdown",
   "id": "0a3f9df1",
   "metadata": {},
   "source": []
  },
  {
   "cell_type": "markdown",
   "id": "d08daa7c",
   "metadata": {},
   "source": []
  },
  {
   "cell_type": "markdown",
   "id": "7243da2a",
   "metadata": {},
   "source": []
  },
  {
   "cell_type": "markdown",
   "id": "3035ca87",
   "metadata": {},
   "source": []
  },
  {
   "cell_type": "markdown",
   "id": "2ba5b2ef",
   "metadata": {},
   "source": []
  },
  {
   "cell_type": "markdown",
   "id": "eed93bf3",
   "metadata": {},
   "source": []
  },
  {
   "cell_type": "markdown",
   "id": "e10c63a9",
   "metadata": {},
   "source": []
  },
  {
   "cell_type": "markdown",
   "id": "f8fd67ce",
   "metadata": {},
   "source": []
  },
  {
   "cell_type": "markdown",
   "id": "d564d94d",
   "metadata": {},
   "source": []
  },
  {
   "cell_type": "markdown",
   "id": "27c9d573",
   "metadata": {},
   "source": []
  },
  {
   "cell_type": "markdown",
   "id": "3c7a54d3",
   "metadata": {},
   "source": []
  },
  {
   "cell_type": "markdown",
   "id": "107f1265",
   "metadata": {},
   "source": []
  },
  {
   "cell_type": "markdown",
   "id": "d0388b40",
   "metadata": {},
   "source": []
  },
  {
   "cell_type": "markdown",
   "id": "a6198ac9",
   "metadata": {},
   "source": []
  },
  {
   "cell_type": "markdown",
   "id": "609f7d10",
   "metadata": {},
   "source": []
  },
  {
   "cell_type": "markdown",
   "id": "ca625b59",
   "metadata": {},
   "source": []
  },
  {
   "cell_type": "markdown",
   "id": "04aee9eb",
   "metadata": {},
   "source": []
  },
  {
   "cell_type": "markdown",
   "id": "4957a054",
   "metadata": {},
   "source": []
  },
  {
   "cell_type": "markdown",
   "id": "38d25923",
   "metadata": {},
   "source": []
  },
  {
   "cell_type": "markdown",
   "id": "992b0885",
   "metadata": {},
   "source": []
  },
  {
   "cell_type": "markdown",
   "id": "b4968d9e",
   "metadata": {},
   "source": []
  },
  {
   "cell_type": "markdown",
   "id": "b2d35f36",
   "metadata": {},
   "source": []
  },
  {
   "cell_type": "markdown",
   "id": "12d00218",
   "metadata": {},
   "source": []
  },
  {
   "cell_type": "markdown",
   "id": "d3acf2f3",
   "metadata": {},
   "source": []
  },
  {
   "cell_type": "markdown",
   "id": "2a5c836d",
   "metadata": {},
   "source": []
  }
 ],
 "metadata": {
  "kernelspec": {
   "display_name": "Python 3 (ipykernel)",
   "language": "python",
   "name": "python3"
  },
  "language_info": {
   "codemirror_mode": {
    "name": "ipython",
    "version": 3
   },
   "file_extension": ".py",
   "mimetype": "text/x-python",
   "name": "python",
   "nbconvert_exporter": "python",
   "pygments_lexer": "ipython3",
   "version": "3.9.16"
  }
 },
 "nbformat": 4,
 "nbformat_minor": 5
}
