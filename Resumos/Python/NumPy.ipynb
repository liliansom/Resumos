{
 "cells": [
  {
   "cell_type": "code",
   "execution_count": 1,
   "id": "0e512ff9",
   "metadata": {},
   "outputs": [],
   "source": [
    "import numpy"
   ]
  },
  {
   "cell_type": "markdown",
   "id": "3d87ade6",
   "metadata": {},
   "source": []
  },
  {
   "cell_type": "markdown",
   "id": "5cf67f69",
   "metadata": {},
   "source": []
  },
  {
   "cell_type": "markdown",
   "id": "0793dafb",
   "metadata": {},
   "source": []
  },
  {
   "cell_type": "markdown",
   "id": "65cb6ca7",
   "metadata": {},
   "source": []
  },
  {
   "cell_type": "markdown",
   "id": "d0799c0a",
   "metadata": {},
   "source": []
  },
  {
   "cell_type": "markdown",
   "id": "72d0a896",
   "metadata": {},
   "source": []
  },
  {
   "cell_type": "markdown",
   "id": "951b6e3d",
   "metadata": {},
   "source": []
  },
  {
   "cell_type": "markdown",
   "id": "b51ed596",
   "metadata": {},
   "source": []
  },
  {
   "cell_type": "markdown",
   "id": "fb202a20",
   "metadata": {},
   "source": []
  },
  {
   "cell_type": "markdown",
   "id": "9ab8aed3",
   "metadata": {},
   "source": []
  },
  {
   "cell_type": "markdown",
   "id": "c605843b",
   "metadata": {},
   "source": []
  },
  {
   "cell_type": "markdown",
   "id": "348d08d4",
   "metadata": {},
   "source": []
  },
  {
   "cell_type": "markdown",
   "id": "3a5ad0b6",
   "metadata": {},
   "source": []
  },
  {
   "cell_type": "markdown",
   "id": "1c92ee1a",
   "metadata": {},
   "source": []
  },
  {
   "cell_type": "markdown",
   "id": "e482d7ac",
   "metadata": {},
   "source": []
  },
  {
   "cell_type": "markdown",
   "id": "96aac3c8",
   "metadata": {},
   "source": []
  },
  {
   "cell_type": "markdown",
   "id": "9c4a3cf1",
   "metadata": {},
   "source": []
  },
  {
   "cell_type": "markdown",
   "id": "3717526f",
   "metadata": {},
   "source": []
  },
  {
   "cell_type": "markdown",
   "id": "f62dab99",
   "metadata": {},
   "source": []
  },
  {
   "cell_type": "markdown",
   "id": "ae207eb7",
   "metadata": {},
   "source": []
  },
  {
   "cell_type": "markdown",
   "id": "0dfbe01b",
   "metadata": {},
   "source": []
  },
  {
   "cell_type": "markdown",
   "id": "c775ed6e",
   "metadata": {},
   "source": []
  },
  {
   "cell_type": "markdown",
   "id": "c9d1fa23",
   "metadata": {},
   "source": []
  },
  {
   "cell_type": "markdown",
   "id": "72ea899d",
   "metadata": {},
   "source": []
  },
  {
   "cell_type": "markdown",
   "id": "fcaeb665",
   "metadata": {},
   "source": []
  },
  {
   "cell_type": "markdown",
   "id": "89795479",
   "metadata": {},
   "source": []
  },
  {
   "cell_type": "markdown",
   "id": "34fca07e",
   "metadata": {},
   "source": []
  },
  {
   "cell_type": "markdown",
   "id": "32a5c245",
   "metadata": {},
   "source": []
  },
  {
   "cell_type": "markdown",
   "id": "d4ca8196",
   "metadata": {},
   "source": []
  },
  {
   "cell_type": "markdown",
   "id": "5a8d48b1",
   "metadata": {},
   "source": []
  },
  {
   "cell_type": "markdown",
   "id": "19616c42",
   "metadata": {},
   "source": []
  },
  {
   "cell_type": "markdown",
   "id": "cf43dc08",
   "metadata": {},
   "source": []
  },
  {
   "cell_type": "markdown",
   "id": "e6c91423",
   "metadata": {},
   "source": []
  },
  {
   "cell_type": "markdown",
   "id": "d83a6cdf",
   "metadata": {},
   "source": []
  },
  {
   "cell_type": "markdown",
   "id": "150eb5a4",
   "metadata": {},
   "source": []
  },
  {
   "cell_type": "markdown",
   "id": "2c80f395",
   "metadata": {},
   "source": []
  },
  {
   "cell_type": "markdown",
   "id": "2c1761e9",
   "metadata": {},
   "source": []
  },
  {
   "cell_type": "markdown",
   "id": "a3b878a5",
   "metadata": {},
   "source": []
  },
  {
   "cell_type": "markdown",
   "id": "4e6a5d3c",
   "metadata": {},
   "source": []
  },
  {
   "cell_type": "markdown",
   "id": "181dfc6d",
   "metadata": {},
   "source": []
  }
 ],
 "metadata": {
  "kernelspec": {
   "display_name": "Python 3 (ipykernel)",
   "language": "python",
   "name": "python3"
  },
  "language_info": {
   "codemirror_mode": {
    "name": "ipython",
    "version": 3
   },
   "file_extension": ".py",
   "mimetype": "text/x-python",
   "name": "python",
   "nbconvert_exporter": "python",
   "pygments_lexer": "ipython3",
   "version": "3.9.16"
  }
 },
 "nbformat": 4,
 "nbformat_minor": 5
}
