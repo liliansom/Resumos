{
 "cells": [
  {
   "cell_type": "markdown",
   "id": "6b9e4249",
   "metadata": {},
   "source": [
    "# Definição da Biblioteca\n",
    "Pandas é uma biblioteca criada para a linguagem Python para manipulação e análise de dados.<br>\n",
    "Em particular, oferece estruturas e operações para manipular tabelas numéricas e séries temporais e é um built on da biblioteca NumPy, provendo estruturas de dados fáceis de se utilizar. <br>\n",
    "\n",
    "Dentro do pacote Pandas, temos dois objetos primários importantes: as Series e os DataFrames.<br> "
   ]
  },
  {
   "cell_type": "markdown",
   "id": "d6abb18b",
   "metadata": {},
   "source": [
    "## Series\n",
    "As Series são objetos de tipo array unidimensional, com um eixo de rótulos, também chamado de index, que é responsável por identificar cada registro.<br>"
   ]
  },
  {
   "cell_type": "markdown",
   "id": "61740850",
   "metadata": {},
   "source": [
    "## Dataframes\n",
    "Os DataFrames são objetos bidimensionais, de tamanho variável. O seu formato é de uma tabela, onde os dados são organizados em linhas e colunas. Além disso, enquanto podemos pensar a Series como uma única coluna, o DataFrame seria uma união de várias Series sob um mesmo index."
   ]
  },
  {
   "cell_type": "markdown",
   "id": "954192c7",
   "metadata": {},
   "source": [
    "# Como Importar a biblioteca?"
   ]
  },
  {
   "cell_type": "markdown",
   "id": "9420d4c0",
   "metadata": {},
   "source": [
    "import pandas as pd"
   ]
  },
  {
   "cell_type": "markdown",
   "id": "a9dbb137",
   "metadata": {},
   "source": [
    "## Ler e Salvar em CSV"
   ]
  },
  {
   "cell_type": "markdown",
   "id": "74280682",
   "metadata": {},
   "source": [
    "<li>Ler:</li>\n",
    "\n",
    "    pd.read_csv('file.csv', header=None, nrows=5)\n",
    "\n",
    "<li>Salvar:</li>\n",
    "\n",
    "    pd.to_csv('myDataFrame.csv')"
   ]
  },
  {
   "cell_type": "markdown",
   "id": "28b822bd",
   "metadata": {},
   "source": [
    "## Ler e Salvar em Excel"
   ]
  },
  {
   "cell_type": "markdown",
   "id": "70254a54",
   "metadata": {},
   "source": [
    "<li>Ler:</li>\n",
    "\n",
    "    pd.read_excel('file.xlsx')\n",
    "    \n",
    "<li>Salvar:</li>\n",
    "\n",
    "    pd.to_excel('dir/myDataFrame.xlsx', sheet_name='Sheet1')\n",
    "    \n",
    "<li>Ler múltiplas tabelas do mesmo arquivo: </li>\n",
    "    \n",
    "    pd.Excelfile('file.xlsx')\n",
    "    df = pd.read_excel(xlsx, 'Sheet1')"
   ]
  },
  {
   "cell_type": "markdown",
   "id": "5ffa5de3",
   "metadata": {},
   "source": [
    "# Ler e Salvar em SQL Query ou Tabela Database"
   ]
  },
  {
   "cell_type": "markdown",
   "id": "6f0eef82",
   "metadata": {},
   "source": [
    "<li>Ler:</li>\n",
    "\n",
    "    from sqlalchemy impor create_engine\n",
    "    engine = create_engine('sqlite:///:memory:')\n",
    "    \n",
    "    pd.read_sql(\"SELECT * FROM my_table\", engine)\n",
    "    pd.read_sql_table('my_table', engine)\n",
    "    pd.read_sql_query(\"SELECT * FROM my_table;\", engine)\n",
    "\n",
    "<li>Salvar:</li>\n",
    "\n",
    "    pd.to_sql('myDf', engine)\n"
   ]
  },
  {
   "cell_type": "markdown",
   "id": "b5a2d298",
   "metadata": {},
   "source": [
    "## Informações Básicas\n"
   ]
  },
  {
   "cell_type": "markdown",
   "id": "2045c69f",
   "metadata": {},
   "source": [
    "<li>df.shape</li>\n",
    "    \n",
    "    (rows, columns)\n",
    "\n",
    "<li>df.index</li>\n",
    "\n",
    "    Describe index\n",
    "    \n",
    "<li>df.columns</li>\n",
    "\n",
    "    Describe dataframe columns\n",
    "    \n",
    "<li>df.info()</li>\n",
    "\n",
    "    Info on dataframe\n",
    "    \n",
    "<li>df.count()</li>\n",
    "    \n",
    "    Number of non-NA values"
   ]
  },
  {
   "cell_type": "markdown",
   "id": "3868f319",
   "metadata": {},
   "source": []
  },
  {
   "cell_type": "markdown",
   "id": "d15f10e5",
   "metadata": {},
   "source": []
  },
  {
   "cell_type": "markdown",
   "id": "671b25ce",
   "metadata": {},
   "source": []
  },
  {
   "cell_type": "markdown",
   "id": "a2998630",
   "metadata": {},
   "source": []
  },
  {
   "cell_type": "markdown",
   "id": "478a0173",
   "metadata": {},
   "source": []
  },
  {
   "cell_type": "markdown",
   "id": "2450f983",
   "metadata": {},
   "source": []
  },
  {
   "cell_type": "markdown",
   "id": "c7e1b5b6",
   "metadata": {},
   "source": []
  },
  {
   "cell_type": "markdown",
   "id": "2b369e86",
   "metadata": {},
   "source": []
  },
  {
   "cell_type": "markdown",
   "id": "854113d7",
   "metadata": {},
   "source": []
  },
  {
   "cell_type": "markdown",
   "id": "571d1d76",
   "metadata": {},
   "source": []
  },
  {
   "cell_type": "markdown",
   "id": "a44acded",
   "metadata": {},
   "source": []
  },
  {
   "cell_type": "markdown",
   "id": "8e5648b0",
   "metadata": {},
   "source": []
  },
  {
   "cell_type": "markdown",
   "id": "b9dca5ff",
   "metadata": {},
   "source": []
  },
  {
   "cell_type": "markdown",
   "id": "417c3575",
   "metadata": {},
   "source": []
  },
  {
   "cell_type": "markdown",
   "id": "8de131f6",
   "metadata": {},
   "source": []
  },
  {
   "cell_type": "markdown",
   "id": "9eb7114d",
   "metadata": {},
   "source": []
  },
  {
   "cell_type": "markdown",
   "id": "30701735",
   "metadata": {},
   "source": []
  },
  {
   "cell_type": "markdown",
   "id": "cab01197",
   "metadata": {},
   "source": []
  },
  {
   "cell_type": "markdown",
   "id": "f3afdc6a",
   "metadata": {},
   "source": []
  }
 ],
 "metadata": {
  "kernelspec": {
   "display_name": "Python 3 (ipykernel)",
   "language": "python",
   "name": "python3"
  },
  "language_info": {
   "codemirror_mode": {
    "name": "ipython",
    "version": 3
   },
   "file_extension": ".py",
   "mimetype": "text/x-python",
   "name": "python",
   "nbconvert_exporter": "python",
   "pygments_lexer": "ipython3",
   "version": "3.9.16"
  }
 },
 "nbformat": 4,
 "nbformat_minor": 5
}
